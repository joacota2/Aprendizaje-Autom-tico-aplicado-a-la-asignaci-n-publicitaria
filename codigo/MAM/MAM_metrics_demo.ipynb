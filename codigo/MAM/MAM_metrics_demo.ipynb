{
 "cells": [
  {
   "cell_type": "code",
   "execution_count": 2,
   "metadata": {},
   "outputs": [],
   "source": [
    "import pandas as pd\n",
    "from MarketingAttrLib.data_generator import MamDatasets\n",
    "from MarketingAttrLib.metrics import AttributionMetrics\n",
    "from MarketingAttrLib.modeling import AttributionModel"
   ]
  },
  {
   "cell_type": "code",
   "execution_count": 3,
   "metadata": {},
   "outputs": [
    {
     "name": "stderr",
     "output_type": "stream",
     "text": [
      "c:\\Users\\gomez\\OneDrive\\Documents\\Programacion\\UE\\TFM\\codigo\\MAM\\MarketingAttrLib\\data_generator.py:22: FutureWarning: 'H' is deprecated and will be removed in a future version, please use 'h' instead.\n",
      "  'time': lambda n: pd.date_range(start=self.start_date, periods=n, freq=\"H\").to_numpy(),\n"
     ]
    }
   ],
   "source": [
    "# df = MamDatasets().generate_data(num_entries=15000,num_channels=5,num_cookies=500)\n",
    "df = pd.read_csv('../../data/attribution data.csv')\n",
    "\n",
    "df = MamDatasets(df).generate_data()\n"
   ]
  },
  {
   "cell_type": "code",
   "execution_count": 4,
   "metadata": {},
   "outputs": [],
   "source": [
    "model = AttributionModel(df).run_all()"
   ]
  },
  {
   "cell_type": "code",
   "execution_count": 5,
   "metadata": {},
   "outputs": [
    {
     "data": {
      "text/plain": [
       "Channel 2    0.983333\n",
       "Channel 3   -0.433333\n",
       "Channel 4   -0.766667\n",
       "Channel 5    0.566667\n",
       "Channel 6   -0.350000\n",
       "Name: shapley, dtype: float64"
      ]
     },
     "execution_count": 5,
     "metadata": {},
     "output_type": "execute_result"
    }
   ],
   "source": [
    "model.shapley"
   ]
  },
  {
   "cell_type": "code",
   "execution_count": 6,
   "metadata": {},
   "outputs": [],
   "source": [
    "metrics = AttributionMetrics(df,model)"
   ]
  },
  {
   "cell_type": "code",
   "execution_count": 7,
   "metadata": {},
   "outputs": [],
   "source": [
    "metrics.calculate_metrics()"
   ]
  },
  {
   "cell_type": "code",
   "execution_count": 8,
   "metadata": {},
   "outputs": [
    {
     "data": {
      "text/html": [
       "<div>\n",
       "<style scoped>\n",
       "    .dataframe tbody tr th:only-of-type {\n",
       "        vertical-align: middle;\n",
       "    }\n",
       "\n",
       "    .dataframe tbody tr th {\n",
       "        vertical-align: top;\n",
       "    }\n",
       "\n",
       "    .dataframe thead th {\n",
       "        text-align: right;\n",
       "    }\n",
       "</style>\n",
       "<table border=\"1\" class=\"dataframe\">\n",
       "  <thead>\n",
       "    <tr style=\"text-align: right;\">\n",
       "      <th></th>\n",
       "      <th>Conversion Rate by Channel</th>\n",
       "      <th>Avg. Touchpoints Before Conversion</th>\n",
       "      <th>Avg. Time Until Conversion (hours)</th>\n",
       "      <th>first_touch</th>\n",
       "      <th>last_touch</th>\n",
       "      <th>linear</th>\n",
       "      <th>time_decay</th>\n",
       "      <th>position_based</th>\n",
       "      <th>shapley</th>\n",
       "      <th>Total Cost</th>\n",
       "      <th>Total Conversion Value</th>\n",
       "      <th>ROI</th>\n",
       "    </tr>\n",
       "    <tr>\n",
       "      <th>channel</th>\n",
       "      <th></th>\n",
       "      <th></th>\n",
       "      <th></th>\n",
       "      <th></th>\n",
       "      <th></th>\n",
       "      <th></th>\n",
       "      <th></th>\n",
       "      <th></th>\n",
       "      <th></th>\n",
       "      <th></th>\n",
       "      <th></th>\n",
       "      <th></th>\n",
       "    </tr>\n",
       "  </thead>\n",
       "  <tbody>\n",
       "    <tr>\n",
       "      <th>Channel 2</th>\n",
       "      <td>0.344828</td>\n",
       "      <td>1.227273</td>\n",
       "      <td>14.5</td>\n",
       "      <td>6.0</td>\n",
       "      <td>5.0</td>\n",
       "      <td>9</td>\n",
       "      <td>3.3125</td>\n",
       "      <td>5.0</td>\n",
       "      <td>0.983333</td>\n",
       "      <td>145.011834</td>\n",
       "      <td>101.705644</td>\n",
       "      <td>-0.298639</td>\n",
       "    </tr>\n",
       "    <tr>\n",
       "      <th>Channel 3</th>\n",
       "      <td>0.120000</td>\n",
       "      <td>1.227273</td>\n",
       "      <td>14.5</td>\n",
       "      <td>2.0</td>\n",
       "      <td>3.0</td>\n",
       "      <td>3</td>\n",
       "      <td>1.5000</td>\n",
       "      <td>2.4</td>\n",
       "      <td>-0.433333</td>\n",
       "      <td>137.752147</td>\n",
       "      <td>0.000000</td>\n",
       "      <td>-1.000000</td>\n",
       "    </tr>\n",
       "    <tr>\n",
       "      <th>Channel 4</th>\n",
       "      <td>0.095238</td>\n",
       "      <td>1.227273</td>\n",
       "      <td>14.5</td>\n",
       "      <td>0.0</td>\n",
       "      <td>1.0</td>\n",
       "      <td>2</td>\n",
       "      <td>0.7500</td>\n",
       "      <td>0.6</td>\n",
       "      <td>-0.766667</td>\n",
       "      <td>109.207825</td>\n",
       "      <td>49.409896</td>\n",
       "      <td>-0.547561</td>\n",
       "    </tr>\n",
       "    <tr>\n",
       "      <th>Channel 5</th>\n",
       "      <td>0.409091</td>\n",
       "      <td>1.227273</td>\n",
       "      <td>14.5</td>\n",
       "      <td>3.0</td>\n",
       "      <td>4.0</td>\n",
       "      <td>7</td>\n",
       "      <td>2.9375</td>\n",
       "      <td>3.4</td>\n",
       "      <td>0.566667</td>\n",
       "      <td>124.615108</td>\n",
       "      <td>134.901981</td>\n",
       "      <td>0.082549</td>\n",
       "    </tr>\n",
       "    <tr>\n",
       "      <th>Channel 6</th>\n",
       "      <td>0.187500</td>\n",
       "      <td>1.227273</td>\n",
       "      <td>14.5</td>\n",
       "      <td>2.0</td>\n",
       "      <td>0.0</td>\n",
       "      <td>3</td>\n",
       "      <td>0.7500</td>\n",
       "      <td>1.0</td>\n",
       "      <td>-0.350000</td>\n",
       "      <td>88.603585</td>\n",
       "      <td>0.000000</td>\n",
       "      <td>-1.000000</td>\n",
       "    </tr>\n",
       "  </tbody>\n",
       "</table>\n",
       "</div>"
      ],
      "text/plain": [
       "           Conversion Rate by Channel  Avg. Touchpoints Before Conversion  \\\n",
       "channel                                                                     \n",
       "Channel 2                    0.344828                            1.227273   \n",
       "Channel 3                    0.120000                            1.227273   \n",
       "Channel 4                    0.095238                            1.227273   \n",
       "Channel 5                    0.409091                            1.227273   \n",
       "Channel 6                    0.187500                            1.227273   \n",
       "\n",
       "           Avg. Time Until Conversion (hours)  first_touch  last_touch  \\\n",
       "channel                                                                  \n",
       "Channel 2                                14.5          6.0         5.0   \n",
       "Channel 3                                14.5          2.0         3.0   \n",
       "Channel 4                                14.5          0.0         1.0   \n",
       "Channel 5                                14.5          3.0         4.0   \n",
       "Channel 6                                14.5          2.0         0.0   \n",
       "\n",
       "           linear  time_decay  position_based   shapley  Total Cost  \\\n",
       "channel                                                               \n",
       "Channel 2       9      3.3125             5.0  0.983333  145.011834   \n",
       "Channel 3       3      1.5000             2.4 -0.433333  137.752147   \n",
       "Channel 4       2      0.7500             0.6 -0.766667  109.207825   \n",
       "Channel 5       7      2.9375             3.4  0.566667  124.615108   \n",
       "Channel 6       3      0.7500             1.0 -0.350000   88.603585   \n",
       "\n",
       "           Total Conversion Value       ROI  \n",
       "channel                                      \n",
       "Channel 2              101.705644 -0.298639  \n",
       "Channel 3                0.000000 -1.000000  \n",
       "Channel 4               49.409896 -0.547561  \n",
       "Channel 5              134.901981  0.082549  \n",
       "Channel 6                0.000000 -1.000000  "
      ]
     },
     "execution_count": 8,
     "metadata": {},
     "output_type": "execute_result"
    }
   ],
   "source": [
    "metrics.get_metrics()"
   ]
  }
 ],
 "metadata": {
  "kernelspec": {
   "display_name": "tfm",
   "language": "python",
   "name": "python3"
  },
  "language_info": {
   "codemirror_mode": {
    "name": "ipython",
    "version": 3
   },
   "file_extension": ".py",
   "mimetype": "text/x-python",
   "name": "python",
   "nbconvert_exporter": "python",
   "pygments_lexer": "ipython3",
   "version": "3.10.14"
  }
 },
 "nbformat": 4,
 "nbformat_minor": 2
}
