{
 "cells": [
  {
   "cell_type": "code",
   "execution_count": 13,
   "metadata": {},
   "outputs": [
    {
     "name": "stderr",
     "output_type": "stream",
     "text": [
      "c:\\Users\\gomez\\OneDrive\\Documents\\Programacion\\UE\\TFM\\codigo\\MAM\\MarketingAttrLib\\data_generator.py:21: FutureWarning: 'H' is deprecated and will be removed in a future version, please use 'h' instead.\n",
      "  'time': lambda n: pd.date_range(start=self.start_date, periods=n, freq=\"H\").to_numpy(),\n"
     ]
    }
   ],
   "source": [
    "from MarketingAttrLib.modeling import  AttributionModel\n",
    "from MarketingAttrLib.data_generator import MamDatasets\n",
    "\n",
    "dataset = MamDatasets().generate_data()"
   ]
  },
  {
   "cell_type": "code",
   "execution_count": 14,
   "metadata": {},
   "outputs": [
    {
     "data": {
      "text/html": [
       "<div>\n",
       "<style scoped>\n",
       "    .dataframe tbody tr th:only-of-type {\n",
       "        vertical-align: middle;\n",
       "    }\n",
       "\n",
       "    .dataframe tbody tr th {\n",
       "        vertical-align: top;\n",
       "    }\n",
       "\n",
       "    .dataframe thead th {\n",
       "        text-align: right;\n",
       "    }\n",
       "</style>\n",
       "<table border=\"1\" class=\"dataframe\">\n",
       "  <thead>\n",
       "    <tr style=\"text-align: right;\">\n",
       "      <th></th>\n",
       "      <th>conversion</th>\n",
       "      <th>conversion_value</th>\n",
       "      <th>time</th>\n",
       "      <th>channel</th>\n",
       "      <th>cost</th>\n",
       "      <th>interaction</th>\n",
       "      <th>cookie</th>\n",
       "    </tr>\n",
       "  </thead>\n",
       "  <tbody>\n",
       "    <tr>\n",
       "      <th>0</th>\n",
       "      <td>1</td>\n",
       "      <td>46.462035</td>\n",
       "      <td>2022-01-12 05:00:00</td>\n",
       "      <td>Channel 3</td>\n",
       "      <td>4.927783</td>\n",
       "      <td>impression</td>\n",
       "      <td>cookie_21</td>\n",
       "    </tr>\n",
       "    <tr>\n",
       "      <th>1</th>\n",
       "      <td>0</td>\n",
       "      <td>0.000000</td>\n",
       "      <td>2022-01-14 10:00:00</td>\n",
       "      <td>Channel 5</td>\n",
       "      <td>5.333349</td>\n",
       "      <td>impression</td>\n",
       "      <td>cookie_44</td>\n",
       "    </tr>\n",
       "    <tr>\n",
       "      <th>2</th>\n",
       "      <td>0</td>\n",
       "      <td>0.000000</td>\n",
       "      <td>2022-01-10 21:00:00</td>\n",
       "      <td>Channel 5</td>\n",
       "      <td>4.634431</td>\n",
       "      <td>click</td>\n",
       "      <td>cookie_54</td>\n",
       "    </tr>\n",
       "    <tr>\n",
       "      <th>3</th>\n",
       "      <td>0</td>\n",
       "      <td>0.000000</td>\n",
       "      <td>2022-01-26 07:00:00</td>\n",
       "      <td>Channel 5</td>\n",
       "      <td>4.985543</td>\n",
       "      <td>impression</td>\n",
       "      <td>cookie_79</td>\n",
       "    </tr>\n",
       "    <tr>\n",
       "      <th>4</th>\n",
       "      <td>0</td>\n",
       "      <td>0.000000</td>\n",
       "      <td>2022-01-01 03:00:00</td>\n",
       "      <td>Channel 5</td>\n",
       "      <td>7.397693</td>\n",
       "      <td>click</td>\n",
       "      <td>cookie_60</td>\n",
       "    </tr>\n",
       "  </tbody>\n",
       "</table>\n",
       "</div>"
      ],
      "text/plain": [
       "   conversion  conversion_value                time    channel      cost  \\\n",
       "0           1         46.462035 2022-01-12 05:00:00  Channel 3  4.927783   \n",
       "1           0          0.000000 2022-01-14 10:00:00  Channel 5  5.333349   \n",
       "2           0          0.000000 2022-01-10 21:00:00  Channel 5  4.634431   \n",
       "3           0          0.000000 2022-01-26 07:00:00  Channel 5  4.985543   \n",
       "4           0          0.000000 2022-01-01 03:00:00  Channel 5  7.397693   \n",
       "\n",
       "  interaction     cookie  \n",
       "0  impression  cookie_21  \n",
       "1  impression  cookie_44  \n",
       "2       click  cookie_54  \n",
       "3  impression  cookie_79  \n",
       "4       click  cookie_60  "
      ]
     },
     "execution_count": 14,
     "metadata": {},
     "output_type": "execute_result"
    }
   ],
   "source": [
    "dataset.head()"
   ]
  },
  {
   "cell_type": "code",
   "execution_count": 15,
   "metadata": {},
   "outputs": [],
   "source": [
    "attr_modeling = AttributionModel(dataset)"
   ]
  },
  {
   "cell_type": "code",
   "execution_count": 16,
   "metadata": {},
   "outputs": [],
   "source": [
    "attr_modeling.calculate_shapley()"
   ]
  },
  {
   "cell_type": "code",
   "execution_count": 17,
   "metadata": {},
   "outputs": [],
   "source": [
    "attr_modeling.time_decay(decay_factor=0.3)"
   ]
  },
  {
   "cell_type": "code",
   "execution_count": 18,
   "metadata": {},
   "outputs": [
    {
     "data": {
      "text/html": [
       "<div>\n",
       "<style scoped>\n",
       "    .dataframe tbody tr th:only-of-type {\n",
       "        vertical-align: middle;\n",
       "    }\n",
       "\n",
       "    .dataframe tbody tr th {\n",
       "        vertical-align: top;\n",
       "    }\n",
       "\n",
       "    .dataframe thead th {\n",
       "        text-align: right;\n",
       "    }\n",
       "</style>\n",
       "<table border=\"1\" class=\"dataframe\">\n",
       "  <thead>\n",
       "    <tr style=\"text-align: right;\">\n",
       "      <th></th>\n",
       "      <th>shapley</th>\n",
       "      <th>time_decay</th>\n",
       "    </tr>\n",
       "  </thead>\n",
       "  <tbody>\n",
       "    <tr>\n",
       "      <th>Channel 2</th>\n",
       "      <td>-0.2</td>\n",
       "      <td>1.262085</td>\n",
       "    </tr>\n",
       "    <tr>\n",
       "      <th>Channel 3</th>\n",
       "      <td>2.3</td>\n",
       "      <td>1.254217</td>\n",
       "    </tr>\n",
       "    <tr>\n",
       "      <th>Channel 4</th>\n",
       "      <td>0.3</td>\n",
       "      <td>1.428166</td>\n",
       "    </tr>\n",
       "    <tr>\n",
       "      <th>Channel 5</th>\n",
       "      <td>-2.7</td>\n",
       "      <td>0.905312</td>\n",
       "    </tr>\n",
       "    <tr>\n",
       "      <th>Channel 6</th>\n",
       "      <td>0.3</td>\n",
       "      <td>0.738067</td>\n",
       "    </tr>\n",
       "  </tbody>\n",
       "</table>\n",
       "</div>"
      ],
      "text/plain": [
       "           shapley  time_decay\n",
       "Channel 2     -0.2    1.262085\n",
       "Channel 3      2.3    1.254217\n",
       "Channel 4      0.3    1.428166\n",
       "Channel 5     -2.7    0.905312\n",
       "Channel 6      0.3    0.738067"
      ]
     },
     "execution_count": 18,
     "metadata": {},
     "output_type": "execute_result"
    }
   ],
   "source": [
    "attr_modeling.get_results()"
   ]
  },
  {
   "cell_type": "code",
   "execution_count": 19,
   "metadata": {},
   "outputs": [
    {
     "data": {
      "text/html": [
       "<div>\n",
       "<style scoped>\n",
       "    .dataframe tbody tr th:only-of-type {\n",
       "        vertical-align: middle;\n",
       "    }\n",
       "\n",
       "    .dataframe tbody tr th {\n",
       "        vertical-align: top;\n",
       "    }\n",
       "\n",
       "    .dataframe thead th {\n",
       "        text-align: right;\n",
       "    }\n",
       "</style>\n",
       "<table border=\"1\" class=\"dataframe\">\n",
       "  <thead>\n",
       "    <tr style=\"text-align: right;\">\n",
       "      <th></th>\n",
       "      <th>shapley</th>\n",
       "      <th>time_decay</th>\n",
       "      <th>first_touch</th>\n",
       "      <th>last_touch</th>\n",
       "      <th>linear</th>\n",
       "      <th>position_based</th>\n",
       "    </tr>\n",
       "  </thead>\n",
       "  <tbody>\n",
       "    <tr>\n",
       "      <th>Channel 2</th>\n",
       "      <td>-0.2</td>\n",
       "      <td>3.325378</td>\n",
       "      <td>3</td>\n",
       "      <td>2</td>\n",
       "      <td>32</td>\n",
       "      <td>2.842160</td>\n",
       "    </tr>\n",
       "    <tr>\n",
       "      <th>Channel 3</th>\n",
       "      <td>2.3</td>\n",
       "      <td>3.968384</td>\n",
       "      <td>2</td>\n",
       "      <td>1</td>\n",
       "      <td>39</td>\n",
       "      <td>2.351414</td>\n",
       "    </tr>\n",
       "    <tr>\n",
       "      <th>Channel 4</th>\n",
       "      <td>0.3</td>\n",
       "      <td>4.086182</td>\n",
       "      <td>2</td>\n",
       "      <td>2</td>\n",
       "      <td>33</td>\n",
       "      <td>2.410500</td>\n",
       "    </tr>\n",
       "    <tr>\n",
       "      <th>Channel 5</th>\n",
       "      <td>-2.7</td>\n",
       "      <td>2.290047</td>\n",
       "      <td>4</td>\n",
       "      <td>2</td>\n",
       "      <td>24</td>\n",
       "      <td>2.846512</td>\n",
       "    </tr>\n",
       "    <tr>\n",
       "      <th>Channel 6</th>\n",
       "      <td>0.3</td>\n",
       "      <td>2.333771</td>\n",
       "      <td>6</td>\n",
       "      <td>1</td>\n",
       "      <td>31</td>\n",
       "      <td>3.648951</td>\n",
       "    </tr>\n",
       "  </tbody>\n",
       "</table>\n",
       "</div>"
      ],
      "text/plain": [
       "           shapley  time_decay  first_touch  last_touch  linear  \\\n",
       "Channel 2     -0.2    3.325378            3           2      32   \n",
       "Channel 3      2.3    3.968384            2           1      39   \n",
       "Channel 4      0.3    4.086182            2           2      33   \n",
       "Channel 5     -2.7    2.290047            4           2      24   \n",
       "Channel 6      0.3    2.333771            6           1      31   \n",
       "\n",
       "           position_based  \n",
       "Channel 2        2.842160  \n",
       "Channel 3        2.351414  \n",
       "Channel 4        2.410500  \n",
       "Channel 5        2.846512  \n",
       "Channel 6        3.648951  "
      ]
     },
     "execution_count": 19,
     "metadata": {},
     "output_type": "execute_result"
    }
   ],
   "source": [
    "all_models = attr_modeling.run_all()\n",
    "all_models"
   ]
  }
 ],
 "metadata": {
  "kernelspec": {
   "display_name": "tfm",
   "language": "python",
   "name": "python3"
  },
  "language_info": {
   "codemirror_mode": {
    "name": "ipython",
    "version": 3
   },
   "file_extension": ".py",
   "mimetype": "text/x-python",
   "name": "python",
   "nbconvert_exporter": "python",
   "pygments_lexer": "ipython3",
   "version": "3.10.14"
  }
 },
 "nbformat": 4,
 "nbformat_minor": 2
}
